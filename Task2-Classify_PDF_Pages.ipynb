{
 "cells": [
  {
   "cell_type": "markdown",
   "id": "2e95b39c",
   "metadata": {
    "id": "2e95b39c"
   },
   "source": [
    "## TODO: PDF Page Classification Task\n",
    "\n",
    "Objective:\n",
    "Implement the `classify_page` function within the given code structure to classify each page of a PDF file into one of three categories based on its content and readability.\n",
    "\n",
    "Code Structure:\n",
    "The main function `classify_all_pages` is already implemented, but if necessary you are allowed to change its implementation. Your task is to complete the `classify_page` function.\n",
    "\n",
    "Input:\n",
    "- A PDF file path (the function should be able to handle various PDF files)\n",
    "\n",
    "Output:\n",
    "- A list of integers, where each integer represents the class of a page in the PDF\n",
    "\n",
    "Classification Categories:\n",
    "\n",
    "0: Machine-readable / searchable\n",
    "   - Pages with text that can be directly extracted and searched within the PDF\n",
    "\n",
    "1: Non-machine readable but OCR-able\n",
    "   - Pages containing text that isn't directly extractable but can be recognized through OCR\n",
    "   - Essentially, these are pages with visible text but stored as images\n",
    "\n",
    "2: Non-machine readable and not OCR-able\n",
    "   - Pages without any recognizable text\n",
    "   - This may include pages with only images, complex graphics, or blank pages\n",
    "\n",
    "Task:\n",
    "1. Implement the `classify_page` function:\n",
    "   - Input: A single page object (PdfReader.PageObject)\n",
    "   - Output: An integer (0, 1, or 2) representing the page's class\n",
    "\n",
    "2. The function should analyze the content of the page and determine its class based on the categories described above.\n",
    "\n",
    "3. Ensure your implementation is robust and can handle various types of PDF content.\n",
    "\n",
    "Requirements:\n",
    "1. The function should work with different PDF files, not just a specific one.\n",
    "2. Implement methods to distinguish between the three categories accurately.\n",
    "3. Handle potential exceptions or edge cases (e.g., corrupted pages, mixed content types on a single page).\n",
    "4. Optimize for both accuracy and processing speed, as the function will be called for each page in the PDF.\n",
    "5. You are allowed to use up to 40GB of GPU VRAM if necessary for your implementation.\n",
    "\n",
    "Additional Considerations:\n",
    "- You may use additional libraries if needed, but ensure they are imported properly.\n",
    "- Provide clear comments in your code to explain the classification logic.\n",
    "\n",
    "Testing:\n",
    "- Test your implementation with various types of PDFs to ensure its robustness and generalizability.\n",
    "- The main script provides a way to test your implementation on a file named \"grouped_documents.pdf\".\n"
   ]
  },
  {
   "cell_type": "code",
   "execution_count": 14,
   "id": "L_6N8oK7o3Km",
   "metadata": {
    "colab": {
     "base_uri": "https://localhost:8080/"
    },
    "id": "L_6N8oK7o3Km",
    "outputId": "70e88f5c-124a-4a7b-c47b-55ba8eb719c2"
   },
   "outputs": [
    {
     "name": "stdout",
     "output_type": "stream",
     "text": [
      "Requirement already satisfied: pdf2image in c:\\users\\divya\\anaconda3\\lib\\site-packages (1.17.0)\n",
      "Requirement already satisfied: pillow in c:\\users\\divya\\anaconda3\\lib\\site-packages (from pdf2image) (10.3.0)\n",
      "Requirement already satisfied: pymupdf in c:\\users\\divya\\anaconda3\\lib\\site-packages (1.24.7)\n",
      "Requirement already satisfied: PyMuPDFb==1.24.6 in c:\\users\\divya\\anaconda3\\lib\\site-packages (from pymupdf) (1.24.6)\n",
      "Requirement already satisfied: PyPDF2 in c:\\users\\divya\\anaconda3\\lib\\site-packages (3.0.1)\n",
      "Requirement already satisfied: pytesseract in c:\\users\\divya\\anaconda3\\lib\\site-packages (0.3.10)\n",
      "Requirement already satisfied: pillow in c:\\users\\divya\\anaconda3\\lib\\site-packages (10.3.0)\n",
      "Requirement already satisfied: pdf2image in c:\\users\\divya\\anaconda3\\lib\\site-packages (1.17.0)\n",
      "Requirement already satisfied: packaging>=21.3 in c:\\users\\divya\\anaconda3\\lib\\site-packages (from pytesseract) (23.1)\n"
     ]
    }
   ],
   "source": [
    "!pip install pdf2image\n",
    "!pip install pymupdf\n",
    "!pip install PyPDF2 pytesseract pillow pdf2image\n"
   ]
  },
  {
   "cell_type": "code",
   "execution_count": 15,
   "id": "2BC2lSqVo_EH",
   "metadata": {
    "id": "2BC2lSqVo_EH"
   },
   "outputs": [],
   "source": [
    "import fitz  # PyMuPDF\n",
    "\n",
    "def crop_pdf(input_pdf_path, output_pdf_path, top_percentage=10, bottom_percentage=10):\n",
    "    # Open the original PDF\n",
    "    pdf_document = fitz.open(input_pdf_path)\n",
    "\n",
    "    # Create a new PDF for output\n",
    "    new_pdf_document = fitz.open()\n",
    "\n",
    "    # Iterate over each page in the original PDF\n",
    "    for page_num in range(len(pdf_document)):\n",
    "        # Load the page\n",
    "        page = pdf_document.load_page(page_num)\n",
    "\n",
    "        # Get the dimensions of the page\n",
    "        rect = page.rect\n",
    "        width = rect.width\n",
    "        height = rect.height\n",
    "\n",
    "        # Calculate the heights of the sections to discard\n",
    "        top_height = height * (top_percentage / 100.0)\n",
    "        bottom_height = height * (bottom_percentage / 100.0)\n",
    "\n",
    "        # Define the crop box for the remaining middle section\n",
    "        middle_crop_box = fitz.Rect(0, top_height, width, height - bottom_height)\n",
    "\n",
    "        # Create a new page for the remaining section\n",
    "        new_page = new_pdf_document.new_page(width=width, height=(height - top_height - bottom_height))\n",
    "        new_page.show_pdf_page(fitz.Rect(0, 0, width, height - top_height - bottom_height), pdf_document, page_num, clip=middle_crop_box)\n",
    "\n",
    "    # Save the new PDF\n",
    "    new_pdf_document.save(output_pdf_path)\n",
    "    new_pdf_document.close()\n",
    "    pdf_document.close()\n",
    "\n"
   ]
  },
  {
   "cell_type": "code",
   "execution_count": 16,
   "id": "W7eDrR8LpJsW",
   "metadata": {
    "id": "W7eDrR8LpJsW"
   },
   "outputs": [],
   "source": [
    "from PIL import Image\n",
    "import pytesseract\n",
    "import io\n",
    "\n",
    "def extract_text_from_pdf_page(page):\n",
    "    \"\"\"Extracts text from a PDF page using PyMuPDF.\"\"\"\n",
    "    try:\n",
    "        text = page.get_text() or \"\"\n",
    "        return text\n",
    "    except Exception as e:\n",
    "        print(f\"Error extracting text: {e}\")\n",
    "        return \"\"\n",
    "\n",
    "def ocr_image(image):\n",
    "    \"\"\"Perform OCR on an image using pytesseract.\"\"\"\n",
    "    try:\n",
    "        ocr_text = pytesseract.image_to_string(image)\n",
    "        return ocr_text\n",
    "    except Exception as e:\n",
    "        print(f\"Error during OCR: {e}\")\n",
    "        return \"\"\n",
    "\n",
    "def convert_page_to_image(page):\n",
    "    \"\"\"Convert a PDF page to an image using PyMuPDF.\"\"\"\n",
    "    try:\n",
    "        # Render the page as a pixmap\n",
    "        pix = page.get_pixmap()\n",
    "        # Convert pixmap to PIL Image\n",
    "        img = Image.open(io.BytesIO(pix.tobytes()))\n",
    "        return img\n",
    "    except Exception as e:\n",
    "        print(f\"Error converting page to image: {e}\")\n",
    "        return None\n",
    "\n"
   ]
  },
  {
   "cell_type": "code",
   "execution_count": 17,
   "id": "7a966e73",
   "metadata": {
    "colab": {
     "base_uri": "https://localhost:8080/"
    },
    "id": "7a966e73",
    "outputId": "71ec93c4-f255-4080-e292-a978eb98d212"
   },
   "outputs": [
    {
     "name": "stdout",
     "output_type": "stream",
     "text": [
      "Error during OCR: tesseract is not installed or it's not in your PATH. See README file for more information.\n",
      "OCR text: \n",
      "Classes for each page: [2, 0, 0, 0, 0, 0, 0, 0, 0, 0, 0, 0, 0, 0, 0, 0, 0, 0]\n"
     ]
    }
   ],
   "source": [
    "from typing import List\n",
    "from PyPDF2 import PdfReader, PdfWriter\n",
    "import io\n",
    "import numpy as np\n",
    "\n",
    "def classify_all_pages(input_pdf: str) -> List[List[int]]:\n",
    "    \"\"\"\n",
    "    Analyze all pages in the input PDF and determine the class of the pdf page\n",
    "\n",
    "    Args:\n",
    "    input_pdf (str): The file path of the input PDF.\n",
    "\n",
    "    Returns:\n",
    "    List[int]: A list of classes for each page.\n",
    "            0: machine-readable\n",
    "            1: non-machine readable but OCR-able\n",
    "            2: non-machine readable and not OCR-able\n",
    "    \"\"\"\n",
    "    \"\"\"Classify all pages of a PDF file.\"\"\"\n",
    "    # Open PDF file with PyMuPDF\n",
    "    pdf_document = fitz.open(input_pdf)\n",
    "\n",
    "    page_classes = []\n",
    "\n",
    "    for page_number in range(len(pdf_document)):\n",
    "        page = pdf_document.load_page(page_number)\n",
    "        page_class = classify_page(page)\n",
    "        page_classes.append(page_class)\n",
    "\n",
    "    pdf_document.close()\n",
    "    return page_classes\n",
    "\n",
    "def classify_page(page):\n",
    "    \"\"\"Classifies a PDF page into one of three categories.\"\"\"\n",
    "    # Extract text directly from the PDF page\n",
    "    text = extract_text_from_pdf_page(page)\n",
    "\n",
    "\n",
    "    if text.strip():\n",
    "        return 0  # Machine-readable / Searchable\n",
    "\n",
    "    # Convert the PDF page to an image\n",
    "    image = convert_page_to_image(page)\n",
    "\n",
    "    if not image:\n",
    "        return 2  # Non-machine readable and not OCR-able\n",
    "\n",
    "    # Perform OCR on the image\n",
    "    ocr_text = ocr_image(image)\n",
    "    print(f\"OCR text: {ocr_text}\")\n",
    "\n",
    "    if ocr_text.strip():\n",
    "        return 1  # Non-machine readable but OCR-able\n",
    "\n",
    "    return 2  # Non-machine readable and not OCR-able\n",
    "\n",
    "# Usage\n",
    "input_pdf: str = \"grouped_documents.pdf\"\n",
    "output_pdf_path = \"/content/output.pdf\"\n",
    "crop_pdf(input_pdf, output_pdf_path)\n",
    "page_classes: List[int] = classify_all_pages(output_pdf_path)\n",
    "print(f\"Classes for each page: {page_classes}\")"
   ]
  },
  {
   "cell_type": "code",
   "execution_count": null,
   "id": "ee03c4ff",
   "metadata": {
    "id": "ee03c4ff"
   },
   "outputs": [],
   "source": []
  },
  {
   "cell_type": "markdown",
   "id": "bO4XJPHRgfZ-",
   "metadata": {
    "id": "bO4XJPHRgfZ-"
   },
   "source": [
    "#  Task 2\n",
    "## Implementation\n",
    "\n",
    "We need to find if each page of the file is\n",
    "            0: machine-readable\n",
    "            1: non-machine readable but OCR-able\n",
    "            2: non-machine readable and not OCR-able\n",
    "\n",
    "In order to find that, input file path is provided in `input_pdf`. Next I cropped the each page to extract the middle part to remove the page number in the pages. This is because the page number can be considered as machine-readable. Next I parsed each page of the cropped document to `classify_page` function which will classify the pages.\n",
    "\n",
    "### Logic\n",
    "\n",
    "First I extracted the text from the page to confirm if it is a machine-readable page. If not, I tried to convert it to image and then extracted the ocr text to confirm non-machine readable but OCR-able page. If it is doesn't match any of the above cases or if it is not able to convert to image, then we can confirm it is non-machine readable and not OCR-able page.\n"
   ]
  }
 ],
 "metadata": {
  "colab": {
   "provenance": []
  },
  "kernelspec": {
   "display_name": "Python 3 (ipykernel)",
   "language": "python",
   "name": "python3"
  },
  "language_info": {
   "codemirror_mode": {
    "name": "ipython",
    "version": 3
   },
   "file_extension": ".py",
   "mimetype": "text/x-python",
   "name": "python",
   "nbconvert_exporter": "python",
   "pygments_lexer": "ipython3",
   "version": "3.11.5"
  }
 },
 "nbformat": 4,
 "nbformat_minor": 5
}
